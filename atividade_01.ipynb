{
 "cells": [
  {
   "attachments": {},
   "cell_type": "markdown",
   "metadata": {},
   "source": [
    "Grupo 7\n",
    "- André Silva\n",
    "- Gabriel Sari\n",
    "- José Cabadas\n",
    "- Mirray Teixeira"
   ]
  },
  {
   "cell_type": "code",
   "execution_count": 50,
   "metadata": {},
   "outputs": [],
   "source": [
    "import os\n",
    "import pymongo\n",
    "from dotenv import load_dotenv\n",
    "import datetime\n",
    "\n",
    "# Load environment variables from .env file\n",
    "load_dotenv()\n",
    "\n",
    "# Get MongoDB Atlas credentials from environment variables\n",
    "mongo_username = os.getenv(\"MONGODB_ATLAS_USERNAME\")\n",
    "mongo_password = os.getenv(\"MONGODB_ATLAS_PASSWORD\")\n",
    "mongo_cluster_url = os.getenv(\"MONGODB_ATLAS_URL\")\n",
    "\n",
    "# Create a MongoClient and connect to the MongoDB Atlas cluster\n",
    "db = pymongo.MongoClient(\n",
    "    \"mongodb+srv://\" + mongo_username + \":\" + mongo_password + \"@\" + mongo_cluster_url + \"/unicamp?retryWrites=true&w=majority\"\n",
    ")"
   ]
  },
  {
   "attachments": {},
   "cell_type": "markdown",
   "metadata": {},
   "source": [
    "## Exercício 1\n",
    "\n",
    "- Adicione alguns documentos em uma coleção chamada diaries utilizando os comandos abaixo \n",
    "- remova a coleção antes de começar e certifique-se de que ela esteja vazia.\n",
    "```javascript\n",
    "db.diaries.drop()\n",
    "db.diaries.insertMany([\n",
    "    { name: \"dug\", day: ISODate(\"2022-08-04\"), txt: \"went for a walk\"},\n",
    "    { name: \"dug\", day: ISODate(\"2022-08-06\"), txt: \"saw a squirrel\"},\n",
    "    { name: \"ray\", day: ISODate(\"2022-08-06\"), txt: \"met dug in the park\"},\n",
    "    { name: \"dug\", day: ISODate(\"2022-08-09\"), txt: \"got a treat\"}\n",
    "])\n",
    "```"
   ]
  },
  {
   "cell_type": "code",
   "execution_count": 51,
   "metadata": {},
   "outputs": [
    {
     "name": "stdout",
     "output_type": "stream",
     "text": [
      "Inserted _id: 640ce850bbc3864eb5fbc06d\n",
      "Inserted _id: 640ce850bbc3864eb5fbc06e\n",
      "Inserted _id: 640ce850bbc3864eb5fbc06f\n",
      "Inserted _id: 640ce850bbc3864eb5fbc070\n"
     ]
    }
   ],
   "source": [
    "db = client.unicamp\n",
    "\n",
    "db.diaries.drop()\n",
    "\n",
    "results = db.diaries.insert_many([\n",
    "    { \"name\": \"dug\", \"day\": datetime.datetime(2022, 8, 4), \"txt\": \"went for a walk\"},\n",
    "    { \"name\": \"dug\", \"day\": datetime.datetime(2022, 8, 6), \"txt\": \"saw a squirrel\"},\n",
    "    { \"name\": \"ray\", \"day\": datetime.datetime(2022, 8, 6), \"txt\": \"met dug in the park\"},\n",
    "    { \"name\": \"dug\", \"day\": datetime.datetime(2022, 8, 9), \"txt\": \"got a treat\"}\n",
    "])\n",
    "\n",
    "for result in results.inserted_ids:\n",
    "    print(f'Inserted _id: {result}')"
   ]
  },
  {
   "attachments": {},
   "cell_type": "markdown",
   "metadata": {},
   "source": [
    "- Escreva um operação find() para retornar somente as entradas feitas pelo “dug”"
   ]
  },
  {
   "cell_type": "code",
   "execution_count": 74,
   "metadata": {},
   "outputs": [
    {
     "name": "stdout",
     "output_type": "stream",
     "text": [
      "{'_id': ObjectId('640ce850bbc3864eb5fbc06d'), 'name': 'dug', 'day': datetime.datetime(2022, 8, 4, 0, 0), 'txt': 'went for a walk'}\n",
      "{'_id': ObjectId('640ce850bbc3864eb5fbc06e'), 'name': 'dug', 'day': datetime.datetime(2022, 8, 6, 0, 0), 'txt': 'saw a squirrel'}\n",
      "{'_id': ObjectId('640ce850bbc3864eb5fbc070'), 'name': 'dug', 'day': datetime.datetime(2022, 8, 9, 0, 0), 'txt': 'got a treat'}\n"
     ]
    }
   ],
   "source": [
    "dug_entries = db.diaries.find({'name': \"dug\"})\n",
    "for entry in dug_entries:\n",
    "    print(entry)"
   ]
  },
  {
   "attachments": {},
   "cell_type": "markdown",
   "metadata": {},
   "source": [
    "\n",
    "- Agora modifique este comando para exibir apenas o registro da linha abaixo utilizando skip, limit e projection para isso.\n",
    "```json\n",
    "{ name: \"dug\", txt: \"saw a squirrel\" }"
   ]
  },
  {
   "cell_type": "code",
   "execution_count": 79,
   "metadata": {},
   "outputs": [
    {
     "name": "stdout",
     "output_type": "stream",
     "text": [
      "{'name': 'dug', 'txt': 'saw a squirrel'}\n"
     ]
    }
   ],
   "source": [
    "\n",
    "dug_entries = db.diaries.find({'name': \"dug\"}, {'_id': 0, 'name': 1, 'txt': 1}).skip(1).limit(1)\n",
    "\n",
    "for entry in dug_entries:\n",
    "    print(entry)"
   ]
  },
  {
   "attachments": {},
   "cell_type": "markdown",
   "metadata": {},
   "source": [
    "## Exercício 2\n",
    "Utilizando a base de dados sample_training:\n",
    "- Na coleção grades:\n",
    "    - Contar os registros onde student_id seja <= 65\n",
    "        - o total é de 660 documentos\n",
    "        - você pode utilizar o método countDocuments({}) para isso"
   ]
  },
  {
   "cell_type": "code",
   "execution_count": 54,
   "metadata": {},
   "outputs": [
    {
     "data": {
      "text/plain": [
       "660"
      ]
     },
     "execution_count": 54,
     "metadata": {},
     "output_type": "execute_result"
    }
   ],
   "source": [
    "grades_collection = client.sample_training.grades\n",
    "\n",
    "grades_collection.count_documents({'student_id': {'$lte': 65.0}})"
   ]
  },
  {
   "attachments": {},
   "cell_type": "markdown",
   "metadata": {},
   "source": [
    "- Na coleção inspections:\n",
    "    - Contar registros com result igual a \"Pass\" o \"Fail\"\n",
    "        - o total de documentos é 16609\n",
    "        - pode ser escrito de duas formas diferentes"
   ]
  },
  {
   "cell_type": "code",
   "execution_count": 57,
   "metadata": {},
   "outputs": [
    {
     "data": {
      "text/plain": [
       "16609"
      ]
     },
     "execution_count": 57,
     "metadata": {},
     "output_type": "execute_result"
    }
   ],
   "source": [
    "inspections_collection = client.sample_training.inspections\n",
    "\n",
    "inspections_collection.count_documents({'result': {'$in': [\"Pass\", \"Fail\"]}})"
   ]
  },
  {
   "attachments": {},
   "cell_type": "markdown",
   "metadata": {},
   "source": [
    "## Exercício 3\n",
    "Utilizando a coleção companies:\n",
    "- Qual a maior empresa até 200 funcinonários\n",
    "- utilize o campo number_of_employees"
   ]
  },
  {
   "cell_type": "code",
   "execution_count": 68,
   "metadata": {},
   "outputs": [
    {
     "name": "stdout",
     "output_type": "stream",
     "text": [
      "Company: Meebo, number of employees: 200\n"
     ]
    }
   ],
   "source": [
    "companies_collection = client.sample_training.companies\n",
    "\n",
    "company = companies_collection.find({'number_of_employees': {'$lte': 200}}).sort('number_of_employees', -1).limit(1)[0]\n",
    "\n",
    "print(f'Company: {company[\"name\"]}, number of employees: {company[\"number_of_employees\"]}')"
   ]
  },
  {
   "attachments": {},
   "cell_type": "markdown",
   "metadata": {},
   "source": [
    "## Exercício 4\n",
    "Utilizando a coleção inspections novamente execute os seguintes updades:\n",
    "### Update 1\n",
    "- todos os documentos com result: \"Completed\", alterar para result: \"No Violation Issue\"\n",
    "- deve alterar 20 documentos"
   ]
  },
  {
   "cell_type": "code",
   "execution_count": 69,
   "metadata": {},
   "outputs": [
    {
     "data": {
      "text/plain": [
       "20"
      ]
     },
     "execution_count": 69,
     "metadata": {},
     "output_type": "execute_result"
    }
   ],
   "source": [
    "inspections_collection.update_many({'result': 'Completed'}, {'$set': {'result': 'No Violation Issue'}}).modified_count"
   ]
  },
  {
   "attachments": {},
   "cell_type": "markdown",
   "metadata": {},
   "source": [
    "### Update 2\n",
    "- para os documentos com result: \"Fail\", criar un campo chamado \"fine_value\" com valor 100\n",
    "- deve alterar 1100 documentos"
   ]
  },
  {
   "cell_type": "code",
   "execution_count": 70,
   "metadata": {},
   "outputs": [
    {
     "data": {
      "text/plain": [
       "1100"
      ]
     },
     "execution_count": 70,
     "metadata": {},
     "output_type": "execute_result"
    }
   ],
   "source": [
    "inspections_collection.update_many({'result': 'Fail'}, {'$set': {'fine_value': 100}}).modified_count"
   ]
  },
  {
   "attachments": {},
   "cell_type": "markdown",
   "metadata": {},
   "source": [
    "### Update 3\n",
    "- para os documentos com \"address.city\": \"ROSEDALE\" e result: \"Fail\", incrementar \"fine_value\" em 150\n",
    "- utilize o operador $inc\n",
    "- deve alterar somente 1 documento"
   ]
  },
  {
   "cell_type": "code",
   "execution_count": 71,
   "metadata": {},
   "outputs": [
    {
     "data": {
      "text/plain": [
       "1"
      ]
     },
     "execution_count": 71,
     "metadata": {},
     "output_type": "execute_result"
    }
   ],
   "source": [
    "inspections_collection.update_one({'address.city': 'ROSEDALE', 'result': 'Fail'}, {'$inc': {'fine_value': 150}}).modified_count"
   ]
  }
 ],
 "metadata": {
  "kernelspec": {
   "display_name": "venv",
   "language": "python",
   "name": "python3"
  },
  "language_info": {
   "codemirror_mode": {
    "name": "ipython",
    "version": 3
   },
   "file_extension": ".py",
   "mimetype": "text/x-python",
   "name": "python",
   "nbconvert_exporter": "python",
   "pygments_lexer": "ipython3",
   "version": "3.10.5"
  },
  "orig_nbformat": 4,
  "vscode": {
   "interpreter": {
    "hash": "047e4cdf38eb426dc497473d281666f9a7b777a6ab52cd102cd703ce3cb1afd9"
   }
  }
 },
 "nbformat": 4,
 "nbformat_minor": 2
}
